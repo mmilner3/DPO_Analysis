{
 "cells": [
  {
   "cell_type": "code",
   "execution_count": 1,
   "id": "74a670ad",
   "metadata": {},
   "outputs": [],
   "source": [
    "import json\n",
    "import pandas as pd\n",
    "import numpy as np\n",
    "import re\n",
    "from sqlalchemy import create_engine\n",
    "#import psycopg2\n",
    "#from config import db_password\n",
    "import time\n",
    "import pandas as pd\n",
    "import matplotlib as plt\n",
    "from sklearn.datasets import make_blobs\n",
    "import sklearn as skl\n",
    "import tensorflow as tf"
   ]
  },
  {
   "cell_type": "code",
   "execution_count": 18,
   "id": "da4bd63e",
   "metadata": {},
   "outputs": [
    {
     "data": {
      "text/plain": [
       "50"
      ]
     },
     "execution_count": 18,
     "metadata": {},
     "output_type": "execute_result"
    }
   ],
   "source": [
    "pkg_dim_table = pd.read_csv('pkg_dims_table.csv', index_col = 1)\n",
    "\n",
    "pkg_dim_table.omstracknum.count()\n"
   ]
  },
  {
   "cell_type": "code",
   "execution_count": 19,
   "id": "b574eb1f",
   "metadata": {},
   "outputs": [
    {
     "data": {
      "text/html": [
       "<div>\n",
       "<style scoped>\n",
       "    .dataframe tbody tr th:only-of-type {\n",
       "        vertical-align: middle;\n",
       "    }\n",
       "\n",
       "    .dataframe tbody tr th {\n",
       "        vertical-align: top;\n",
       "    }\n",
       "\n",
       "    .dataframe thead th {\n",
       "        text-align: right;\n",
       "    }\n",
       "</style>\n",
       "<table border=\"1\" class=\"dataframe\">\n",
       "  <thead>\n",
       "    <tr style=\"text-align: right;\">\n",
       "      <th></th>\n",
       "      <th>omstracknum</th>\n",
       "      <th>pkg_length</th>\n",
       "      <th>pkg_width</th>\n",
       "      <th>pkg_height</th>\n",
       "      <th>pkg_weight</th>\n",
       "    </tr>\n",
       "    <tr>\n",
       "      <th>ordnum</th>\n",
       "      <th></th>\n",
       "      <th></th>\n",
       "      <th></th>\n",
       "      <th></th>\n",
       "      <th></th>\n",
       "    </tr>\n",
       "  </thead>\n",
       "  <tbody>\n",
       "    <tr>\n",
       "      <th>901272444542</th>\n",
       "      <td>1ZY852290137116323</td>\n",
       "      <td></td>\n",
       "      <td></td>\n",
       "      <td></td>\n",
       "      <td>0.20</td>\n",
       "    </tr>\n",
       "    <tr>\n",
       "      <th>911705304502</th>\n",
       "      <td>9274899992573377899013</td>\n",
       "      <td>6</td>\n",
       "      <td>6</td>\n",
       "      <td>6</td>\n",
       "      <td>0.2</td>\n",
       "    </tr>\n",
       "    <tr>\n",
       "      <th>102130260865</th>\n",
       "      <td>9274899992573377899228</td>\n",
       "      <td>10</td>\n",
       "      <td>10</td>\n",
       "      <td>1</td>\n",
       "      <td>0.2</td>\n",
       "    </tr>\n",
       "    <tr>\n",
       "      <th>102834023190</th>\n",
       "      <td>1Z6Y50E6YP34397091</td>\n",
       "      <td></td>\n",
       "      <td></td>\n",
       "      <td></td>\n",
       "      <td>1.50</td>\n",
       "    </tr>\n",
       "    <tr>\n",
       "      <th>902836440056</th>\n",
       "      <td>713164739469</td>\n",
       "      <td></td>\n",
       "      <td></td>\n",
       "      <td></td>\n",
       "      <td>0.1</td>\n",
       "    </tr>\n",
       "  </tbody>\n",
       "</table>\n",
       "</div>"
      ],
      "text/plain": [
       "                         omstracknum pkg_length pkg_width pkg_height  \\\n",
       "ordnum                                                                 \n",
       "901272444542      1ZY852290137116323                                   \n",
       "911705304502  9274899992573377899013          6         6          6   \n",
       "102130260865  9274899992573377899228         10        10          1   \n",
       "102834023190      1Z6Y50E6YP34397091                                   \n",
       "902836440056            713164739469                                   \n",
       "\n",
       "             pkg_weight  \n",
       "ordnum                   \n",
       "901272444542       0.20  \n",
       "911705304502        0.2  \n",
       "102130260865        0.2  \n",
       "102834023190       1.50  \n",
       "902836440056        0.1  "
      ]
     },
     "execution_count": 19,
     "metadata": {},
     "output_type": "execute_result"
    }
   ],
   "source": [
    "pkg_dim_table.head()"
   ]
  },
  {
   "cell_type": "code",
   "execution_count": 20,
   "id": "b91eb8e1",
   "metadata": {},
   "outputs": [
    {
     "data": {
      "text/plain": [
       "omstracknum    object\n",
       "pkg_length     object\n",
       "pkg_width      object\n",
       "pkg_height     object\n",
       "pkg_weight     object\n",
       "dtype: object"
      ]
     },
     "execution_count": 20,
     "metadata": {},
     "output_type": "execute_result"
    }
   ],
   "source": [
    "pkg_dim_table.dtypes"
   ]
  },
  {
   "cell_type": "code",
   "execution_count": 21,
   "id": "813f8363",
   "metadata": {},
   "outputs": [],
   "source": [
    "pkg_dim_table = pkg_dim_table[pkg_dim_table.pkg_weight != \" \"]"
   ]
  },
  {
   "cell_type": "code",
   "execution_count": 22,
   "id": "f2d9673a",
   "metadata": {},
   "outputs": [],
   "source": [
    "pkg_dim_table = pkg_dim_table[pkg_dim_table.pkg_length != \" \"]"
   ]
  },
  {
   "cell_type": "code",
   "execution_count": 23,
   "id": "b303175c",
   "metadata": {},
   "outputs": [],
   "source": [
    "pkg_dim_table = pkg_dim_table[pkg_dim_table.pkg_width != \" \"]"
   ]
  },
  {
   "cell_type": "code",
   "execution_count": 24,
   "id": "b50fc2b0",
   "metadata": {},
   "outputs": [],
   "source": [
    "pkg_dim_table = pkg_dim_table[pkg_dim_table.pkg_height != \" \"]"
   ]
  },
  {
   "cell_type": "code",
   "execution_count": 25,
   "id": "9da5d70b",
   "metadata": {},
   "outputs": [
    {
     "data": {
      "text/plain": [
       "12"
      ]
     },
     "execution_count": 25,
     "metadata": {},
     "output_type": "execute_result"
    }
   ],
   "source": [
    "pkg_dim_table.omstracknum.count()"
   ]
  },
  {
   "cell_type": "code",
   "execution_count": 30,
   "id": "7decd34e",
   "metadata": {},
   "outputs": [],
   "source": [
    "pkg_dim_table['pkg_length'] = pd.to_numeric(pkg_dim_table['pkg_length'], errors='ignore')"
   ]
  },
  {
   "cell_type": "code",
   "execution_count": 32,
   "id": "bc3c2e1f",
   "metadata": {},
   "outputs": [],
   "source": [
    "pkg_dim_table['pkg_width'] = pd.to_numeric(pkg_dim_table['pkg_width'], errors='ignore')"
   ]
  },
  {
   "cell_type": "code",
   "execution_count": 33,
   "id": "d400f8f2",
   "metadata": {},
   "outputs": [],
   "source": [
    "pkg_dim_table['pkg_height'] = pd.to_numeric(pkg_dim_table['pkg_height'], errors='ignore')"
   ]
  },
  {
   "cell_type": "code",
   "execution_count": 34,
   "id": "58e19634",
   "metadata": {},
   "outputs": [],
   "source": [
    "pkg_dim_table['pkg_weight'] = pd.to_numeric(pkg_dim_table['pkg_weight'], errors='ignore')"
   ]
  },
  {
   "cell_type": "code",
   "execution_count": 35,
   "id": "5ed8e6c0",
   "metadata": {},
   "outputs": [
    {
     "data": {
      "text/html": [
       "<div>\n",
       "<style scoped>\n",
       "    .dataframe tbody tr th:only-of-type {\n",
       "        vertical-align: middle;\n",
       "    }\n",
       "\n",
       "    .dataframe tbody tr th {\n",
       "        vertical-align: top;\n",
       "    }\n",
       "\n",
       "    .dataframe thead th {\n",
       "        text-align: right;\n",
       "    }\n",
       "</style>\n",
       "<table border=\"1\" class=\"dataframe\">\n",
       "  <thead>\n",
       "    <tr style=\"text-align: right;\">\n",
       "      <th></th>\n",
       "      <th>omstracknum</th>\n",
       "      <th>pkg_length</th>\n",
       "      <th>pkg_width</th>\n",
       "      <th>pkg_height</th>\n",
       "      <th>pkg_weight</th>\n",
       "    </tr>\n",
       "    <tr>\n",
       "      <th>ordnum</th>\n",
       "      <th></th>\n",
       "      <th></th>\n",
       "      <th></th>\n",
       "      <th></th>\n",
       "      <th></th>\n",
       "    </tr>\n",
       "  </thead>\n",
       "  <tbody>\n",
       "    <tr>\n",
       "      <th>911705304502</th>\n",
       "      <td>9274899992573377899013</td>\n",
       "      <td>6</td>\n",
       "      <td>6</td>\n",
       "      <td>6</td>\n",
       "      <td>0.2</td>\n",
       "    </tr>\n",
       "    <tr>\n",
       "      <th>102130260865</th>\n",
       "      <td>9274899992573377899228</td>\n",
       "      <td>10</td>\n",
       "      <td>10</td>\n",
       "      <td>1</td>\n",
       "      <td>0.2</td>\n",
       "    </tr>\n",
       "    <tr>\n",
       "      <th>922865663920</th>\n",
       "      <td>713164739447</td>\n",
       "      <td>11</td>\n",
       "      <td>1</td>\n",
       "      <td>9</td>\n",
       "      <td>1.0</td>\n",
       "    </tr>\n",
       "    <tr>\n",
       "      <th>902898290632</th>\n",
       "      <td>9274899992573344080109</td>\n",
       "      <td>9</td>\n",
       "      <td>7</td>\n",
       "      <td>6</td>\n",
       "      <td>0.5</td>\n",
       "    </tr>\n",
       "    <tr>\n",
       "      <th>411000000318405717</th>\n",
       "      <td>728734275919</td>\n",
       "      <td>19</td>\n",
       "      <td>17</td>\n",
       "      <td>13</td>\n",
       "      <td>18.3</td>\n",
       "    </tr>\n",
       "    <tr>\n",
       "      <th>411000000318405717</th>\n",
       "      <td>725612428062</td>\n",
       "      <td>13</td>\n",
       "      <td>12</td>\n",
       "      <td>6</td>\n",
       "      <td>9.3</td>\n",
       "    </tr>\n",
       "    <tr>\n",
       "      <th>411000000319492559</th>\n",
       "      <td>726956475819</td>\n",
       "      <td>40</td>\n",
       "      <td>19</td>\n",
       "      <td>11</td>\n",
       "      <td>37.0</td>\n",
       "    </tr>\n",
       "    <tr>\n",
       "      <th>411000000319492559</th>\n",
       "      <td>726956475820</td>\n",
       "      <td>40</td>\n",
       "      <td>18</td>\n",
       "      <td>11</td>\n",
       "      <td>37.0</td>\n",
       "    </tr>\n",
       "    <tr>\n",
       "      <th>102556060293</th>\n",
       "      <td>9274899995774732686560</td>\n",
       "      <td>9</td>\n",
       "      <td>6</td>\n",
       "      <td>3</td>\n",
       "      <td>0.4</td>\n",
       "    </tr>\n",
       "    <tr>\n",
       "      <th>903075049336</th>\n",
       "      <td>713164739414</td>\n",
       "      <td>11</td>\n",
       "      <td>1</td>\n",
       "      <td>9</td>\n",
       "      <td>1.0</td>\n",
       "    </tr>\n",
       "    <tr>\n",
       "      <th>133067583020</th>\n",
       "      <td>9274899995774732686683</td>\n",
       "      <td>6</td>\n",
       "      <td>6</td>\n",
       "      <td>6</td>\n",
       "      <td>0.4</td>\n",
       "    </tr>\n",
       "    <tr>\n",
       "      <th>103103624400</th>\n",
       "      <td>9261299992573330272024</td>\n",
       "      <td>15</td>\n",
       "      <td>10</td>\n",
       "      <td>6</td>\n",
       "      <td>1.5</td>\n",
       "    </tr>\n",
       "  </tbody>\n",
       "</table>\n",
       "</div>"
      ],
      "text/plain": [
       "                               omstracknum  pkg_length  pkg_width  pkg_height  \\\n",
       "ordnum                                                                          \n",
       "911705304502        9274899992573377899013           6          6           6   \n",
       "102130260865        9274899992573377899228          10         10           1   \n",
       "922865663920                  713164739447          11          1           9   \n",
       "902898290632        9274899992573344080109           9          7           6   \n",
       "411000000318405717            728734275919          19         17          13   \n",
       "411000000318405717            725612428062          13         12           6   \n",
       "411000000319492559            726956475819          40         19          11   \n",
       "411000000319492559            726956475820          40         18          11   \n",
       "102556060293        9274899995774732686560           9          6           3   \n",
       "903075049336                  713164739414          11          1           9   \n",
       "133067583020        9274899995774732686683           6          6           6   \n",
       "103103624400        9261299992573330272024          15         10           6   \n",
       "\n",
       "                    pkg_weight  \n",
       "ordnum                          \n",
       "911705304502               0.2  \n",
       "102130260865               0.2  \n",
       "922865663920               1.0  \n",
       "902898290632               0.5  \n",
       "411000000318405717        18.3  \n",
       "411000000318405717         9.3  \n",
       "411000000319492559        37.0  \n",
       "411000000319492559        37.0  \n",
       "102556060293               0.4  \n",
       "903075049336               1.0  \n",
       "133067583020               0.4  \n",
       "103103624400               1.5  "
      ]
     },
     "execution_count": 35,
     "metadata": {},
     "output_type": "execute_result"
    }
   ],
   "source": [
    "pkg_dim_table"
   ]
  },
  {
   "cell_type": "code",
   "execution_count": 37,
   "id": "1a2693b9",
   "metadata": {},
   "outputs": [
    {
     "data": {
      "text/plain": [
       "0.2     2\n",
       "1.0     2\n",
       "37.0    2\n",
       "0.4     2\n",
       "0.5     1\n",
       "18.3    1\n",
       "9.3     1\n",
       "1.5     1\n",
       "Name: pkg_weight, dtype: int64"
      ]
     },
     "execution_count": 37,
     "metadata": {},
     "output_type": "execute_result"
    }
   ],
   "source": [
    "pkg_dim_table.pkg_weight.value_counts()"
   ]
  },
  {
   "cell_type": "code",
   "execution_count": 38,
   "id": "3efd7d60",
   "metadata": {},
   "outputs": [
    {
     "data": {
      "text/html": [
       "<div>\n",
       "<style scoped>\n",
       "    .dataframe tbody tr th:only-of-type {\n",
       "        vertical-align: middle;\n",
       "    }\n",
       "\n",
       "    .dataframe tbody tr th {\n",
       "        vertical-align: top;\n",
       "    }\n",
       "\n",
       "    .dataframe thead th {\n",
       "        text-align: right;\n",
       "    }\n",
       "</style>\n",
       "<table border=\"1\" class=\"dataframe\">\n",
       "  <thead>\n",
       "    <tr style=\"text-align: right;\">\n",
       "      <th></th>\n",
       "      <th>omstracknum</th>\n",
       "      <th>pkg_length</th>\n",
       "      <th>pkg_width</th>\n",
       "      <th>pkg_height</th>\n",
       "      <th>pkg_weight</th>\n",
       "    </tr>\n",
       "    <tr>\n",
       "      <th>ordnum</th>\n",
       "      <th></th>\n",
       "      <th></th>\n",
       "      <th></th>\n",
       "      <th></th>\n",
       "      <th></th>\n",
       "    </tr>\n",
       "  </thead>\n",
       "  <tbody>\n",
       "    <tr>\n",
       "      <th>911705304502</th>\n",
       "      <td>9274899992573377899013</td>\n",
       "      <td>6</td>\n",
       "      <td>6</td>\n",
       "      <td>6</td>\n",
       "      <td>0.2</td>\n",
       "    </tr>\n",
       "    <tr>\n",
       "      <th>102130260865</th>\n",
       "      <td>9274899992573377899228</td>\n",
       "      <td>10</td>\n",
       "      <td>10</td>\n",
       "      <td>1</td>\n",
       "      <td>0.2</td>\n",
       "    </tr>\n",
       "    <tr>\n",
       "      <th>922865663920</th>\n",
       "      <td>713164739447</td>\n",
       "      <td>11</td>\n",
       "      <td>1</td>\n",
       "      <td>9</td>\n",
       "      <td>1.0</td>\n",
       "    </tr>\n",
       "    <tr>\n",
       "      <th>902898290632</th>\n",
       "      <td>9274899992573344080109</td>\n",
       "      <td>9</td>\n",
       "      <td>7</td>\n",
       "      <td>6</td>\n",
       "      <td>0.5</td>\n",
       "    </tr>\n",
       "    <tr>\n",
       "      <th>411000000318405717</th>\n",
       "      <td>728734275919</td>\n",
       "      <td>19</td>\n",
       "      <td>17</td>\n",
       "      <td>13</td>\n",
       "      <td>18.3</td>\n",
       "    </tr>\n",
       "    <tr>\n",
       "      <th>411000000318405717</th>\n",
       "      <td>725612428062</td>\n",
       "      <td>13</td>\n",
       "      <td>12</td>\n",
       "      <td>6</td>\n",
       "      <td>9.3</td>\n",
       "    </tr>\n",
       "    <tr>\n",
       "      <th>411000000319492559</th>\n",
       "      <td>726956475819</td>\n",
       "      <td>40</td>\n",
       "      <td>19</td>\n",
       "      <td>11</td>\n",
       "      <td>37.0</td>\n",
       "    </tr>\n",
       "    <tr>\n",
       "      <th>411000000319492559</th>\n",
       "      <td>726956475820</td>\n",
       "      <td>40</td>\n",
       "      <td>18</td>\n",
       "      <td>11</td>\n",
       "      <td>37.0</td>\n",
       "    </tr>\n",
       "    <tr>\n",
       "      <th>102556060293</th>\n",
       "      <td>9274899995774732686560</td>\n",
       "      <td>9</td>\n",
       "      <td>6</td>\n",
       "      <td>3</td>\n",
       "      <td>0.4</td>\n",
       "    </tr>\n",
       "    <tr>\n",
       "      <th>903075049336</th>\n",
       "      <td>713164739414</td>\n",
       "      <td>11</td>\n",
       "      <td>1</td>\n",
       "      <td>9</td>\n",
       "      <td>1.0</td>\n",
       "    </tr>\n",
       "    <tr>\n",
       "      <th>133067583020</th>\n",
       "      <td>9274899995774732686683</td>\n",
       "      <td>6</td>\n",
       "      <td>6</td>\n",
       "      <td>6</td>\n",
       "      <td>0.4</td>\n",
       "    </tr>\n",
       "    <tr>\n",
       "      <th>103103624400</th>\n",
       "      <td>9261299992573330272024</td>\n",
       "      <td>15</td>\n",
       "      <td>10</td>\n",
       "      <td>6</td>\n",
       "      <td>1.5</td>\n",
       "    </tr>\n",
       "  </tbody>\n",
       "</table>\n",
       "</div>"
      ],
      "text/plain": [
       "                               omstracknum  pkg_length  pkg_width  pkg_height  \\\n",
       "ordnum                                                                          \n",
       "911705304502        9274899992573377899013           6          6           6   \n",
       "102130260865        9274899992573377899228          10         10           1   \n",
       "922865663920                  713164739447          11          1           9   \n",
       "902898290632        9274899992573344080109           9          7           6   \n",
       "411000000318405717            728734275919          19         17          13   \n",
       "411000000318405717            725612428062          13         12           6   \n",
       "411000000319492559            726956475819          40         19          11   \n",
       "411000000319492559            726956475820          40         18          11   \n",
       "102556060293        9274899995774732686560           9          6           3   \n",
       "903075049336                  713164739414          11          1           9   \n",
       "133067583020        9274899995774732686683           6          6           6   \n",
       "103103624400        9261299992573330272024          15         10           6   \n",
       "\n",
       "                    pkg_weight  \n",
       "ordnum                          \n",
       "911705304502               0.2  \n",
       "102130260865               0.2  \n",
       "922865663920               1.0  \n",
       "902898290632               0.5  \n",
       "411000000318405717        18.3  \n",
       "411000000318405717         9.3  \n",
       "411000000319492559        37.0  \n",
       "411000000319492559        37.0  \n",
       "102556060293               0.4  \n",
       "903075049336               1.0  \n",
       "133067583020               0.4  \n",
       "103103624400               1.5  "
      ]
     },
     "execution_count": 38,
     "metadata": {},
     "output_type": "execute_result"
    }
   ],
   "source": [
    "pkg_dim_table['pkg_length'] = pkg_dim_table['pkg_length'].dropna()\n",
    "pkg_dim_table = pkg_dim_table[pkg_dim_table.pkg_length != '']\n",
    "\n",
    "\n",
    "pkg_dim_table"
   ]
  },
  {
   "cell_type": "code",
   "execution_count": 39,
   "id": "85484703",
   "metadata": {},
   "outputs": [
    {
     "data": {
      "text/plain": [
       "omstracknum     object\n",
       "pkg_length       int64\n",
       "pkg_width        int64\n",
       "pkg_height       int64\n",
       "pkg_weight     float64\n",
       "dtype: object"
      ]
     },
     "execution_count": 39,
     "metadata": {},
     "output_type": "execute_result"
    }
   ],
   "source": [
    "pkg_dim_table.dtypes"
   ]
  },
  {
   "cell_type": "code",
   "execution_count": null,
   "id": "007b3f8f",
   "metadata": {},
   "outputs": [],
   "source": []
  }
 ],
 "metadata": {
  "kernelspec": {
   "display_name": "mlenv",
   "language": "python",
   "name": "mlenv"
  },
  "language_info": {
   "codemirror_mode": {
    "name": "ipython",
    "version": 3
   },
   "file_extension": ".py",
   "mimetype": "text/x-python",
   "name": "python",
   "nbconvert_exporter": "python",
   "pygments_lexer": "ipython3",
   "version": "3.7.13"
  }
 },
 "nbformat": 4,
 "nbformat_minor": 5
}
